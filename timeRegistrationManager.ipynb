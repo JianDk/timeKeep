{
 "cells": [
  {
   "cell_type": "code",
   "execution_count": 6,
   "metadata": {
    "scrolled": true
   },
   "outputs": [
    {
     "data": {
      "application/vnd.jupyter.widget-view+json": {
       "model_id": "11bf09e630c54edc8291b6ff9543d16a",
       "version_major": 2,
       "version_minor": 0
      },
      "text/plain": [
       "Tab(children=(Box(children=(Box(children=(Label(value='New Employee name : '), Text(value='', placeholder='Emp…"
      ]
     },
     "metadata": {},
     "output_type": "display_data"
    }
   ],
   "source": [
    "from ipywidgets import Layout, Button, Box, Label, Text, Output, Tab\n",
    "from IPython.display import display\n",
    "from timeStamp import rfidTimeStamp as rfidModule\n",
    "import sqlite3 \n",
    "\n",
    "class timeRegistration(rfidModule):\n",
    "    '''\n",
    "        timeRegistration is a class that contains the UI. Functionality:\n",
    "        \n",
    "        1) Create new users in the data base\n",
    "        2) Modify time registration of existing users. This function is made to allow write into the database should the user\n",
    "        accidentially forget to log in or log out\n",
    "        3) Users time registration data can be extracted within time period and allow report generation followed by sending report over email. \n",
    "    '''\n",
    "    def __init__(self, dbPath):\n",
    "        \n",
    "        #Connect to the database\n",
    "        self.dbPath = dbPath\n",
    "        self.createDatabaseIfNotExist(dbPath)\n",
    "        \n",
    "        #Initializing the GUI\n",
    "        self.buildGUI()\n",
    "    \n",
    "    def buildGUI(self):\n",
    "        \n",
    "        #REGISTER NEW EMPLOYEE\n",
    "        form_item_layout = Layout(\n",
    "        display = 'flex',\n",
    "        flex_flow = 'row',\n",
    "        justify_content = 'space-between')\n",
    "        \n",
    "        self.employeeRegNameText = Text(placeholder = 'Employee full name', disabled = False)\n",
    "        self.employeeRegButton = Button(description = 'Register', disabled = False, \n",
    "                                        button_style = 'success',\n",
    "                                        tooltip = 'Register new employee card')\n",
    "        \n",
    "        self.employeeRegButton.on_click(self.registerNewEmployee)\n",
    "        \n",
    "        self.employeeRegOut = Output()\n",
    "        \n",
    "        self.employeeRegFormItems = [\n",
    "            Box([Label(value = 'New Employee name : '), self.employeeRegNameText]),\n",
    "            Box([self.employeeRegButton]),\n",
    "            Box([self.employeeRegOut])\n",
    "        ]\n",
    "        \n",
    "        self.registerForm = Box(self.employeeRegFormItems, layout = Layout(\n",
    "        display = 'flex',\n",
    "        flex_flow = 'column',\n",
    "        border = 'solid 2px',\n",
    "        align_items = 'stretch',\n",
    "        width = '70%'))\n",
    "        \n",
    "        #TAB\n",
    "        self.tab = Tab()\n",
    "        self.tab.children = [self.registerForm]\n",
    "        self.tab.set_title(0, 'Register')\n",
    "        \n",
    "        display(self.tab)\n",
    "        \n",
    "    def createDatabaseIfNotExist(self, databasePath):\n",
    "        '''\n",
    "        Check if the table of the data base provided by the databasePath exists. If not it will be created.\n",
    "        '''\n",
    "        conn = sqlite3.connect(databasePath)\n",
    "        sqlString = '''CREATE TABLE IF NOT EXISTS workinghour (name text, employeeNo text, datetime text, status text)'''\n",
    "        c = conn.cursor()\n",
    "        c.execute(sqlString)\n",
    "        conn.commit()\n",
    "        conn.close()\n",
    "    \n",
    "    def registerNewEmployee(self, change):\n",
    "        #Extract employee full name from the text\n",
    "        employeeName = self.employeeRegNameText.value\n",
    "        if not employeeName:\n",
    "            with self.employeeRegOut:\n",
    "                self.employeeRegOut.clear_output()\n",
    "                print('Employee name is empty and therefore cannot register new employee')\n",
    "                return\n",
    "\n",
    "        with self.employeeRegOut:\n",
    "            self.employeeRegOut.clear_output()\n",
    "            print('Ready to register ' + employeeName + ' swipe the card to the reader')\n",
    "            self.writeCard(employeeName)\n",
    "            print('Success!')\n",
    "\n",
    "obj = timeRegistration('employeeHour.db')"
   ]
  },
  {
   "cell_type": "code",
   "execution_count": 4,
   "metadata": {},
   "outputs": [],
   "source": [
    "import sqlite3\n",
    "databasePath = 'employeeWorkingHour.db'\n",
    "conn = sqlite3.connect(databasePath)\n",
    "sqlString = '''CREATE TABLE IF NOT EXISTS workinghour (name text, employeeNo text, datetime text, status text)'''\n",
    "c = conn.cursor()\n",
    "c.execute(sqlString)\n",
    "conn.commit()\n",
    "conn.close()"
   ]
  },
  {
   "cell_type": "code",
   "execution_count": null,
   "metadata": {},
   "outputs": [],
   "source": []
  }
 ],
 "metadata": {
  "kernelspec": {
   "display_name": "Python 3",
   "language": "python",
   "name": "python3"
  },
  "language_info": {
   "codemirror_mode": {
    "name": "ipython",
    "version": 3
   },
   "file_extension": ".py",
   "mimetype": "text/x-python",
   "name": "python",
   "nbconvert_exporter": "python",
   "pygments_lexer": "ipython3",
   "version": "3.7.3"
  }
 },
 "nbformat": 4,
 "nbformat_minor": 4
}
