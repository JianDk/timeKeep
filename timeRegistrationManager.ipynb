{
 "cells": [
  {
   "cell_type": "code",
   "execution_count": 4,
   "metadata": {
    "scrolled": true
   },
   "outputs": [
    {
     "data": {
      "application/vnd.jupyter.widget-view+json": {
       "model_id": "e5514b21eafd4b02aa935d76d06444cf",
       "version_major": 2,
       "version_minor": 0
      },
      "text/plain": [
       "Box(children=(Box(children=(Label(value='New Employee name : '), Text(value='', placeholder='Employee full nam…"
      ]
     },
     "metadata": {},
     "output_type": "display_data"
    },
    {
     "name": "stdout",
     "output_type": "stream",
     "text": [
      "hello world\n"
     ]
    }
   ],
   "source": [
    "from ipywidgets import Layout, Button, Box, Label, Text, Output\n",
    "from IPython.display import display\n",
    "from timeStamp import rfidTimeStamp as rfidModule\n",
    "\n",
    "class timeRegistration(rfidModule):\n",
    "    '''\n",
    "        timeRegistration is a class that contains the UI. Functionality:\n",
    "        \n",
    "        1) Create new users in the data base\n",
    "        2) Modify time registration of existing users. This function is made to allow write into the database should the user\n",
    "        accidentially forget to log in or log out\n",
    "        3) Users time registration data can be extracted within time period and allow report generation followed by sending report over email. \n",
    "    '''\n",
    "    def __init__(self):\n",
    "        \n",
    "        #Initializing the GUI\n",
    "        self.buildGUI()\n",
    "    \n",
    "    def buildGUI(self):\n",
    "        \n",
    "        #REGISTER NEW EMPLOYEE\n",
    "        form_item_layout = Layout(\n",
    "        display = 'flex',\n",
    "        flex_flow = 'row',\n",
    "        justify_content = 'space-between')\n",
    "        \n",
    "        self.employeeRegNameText = Text(placeholder = 'Employee full name', disabled = False)\n",
    "        self.employeeRegButton = Button(description = 'Register', disabled = False, \n",
    "                                        button_style = 'success',\n",
    "                                        tooltip = 'Register new employee card')\n",
    "        \n",
    "        self.employeeRegButton.on_click(self.registerNewEmployee)\n",
    "        \n",
    "        self.employeeRegOut = Output()\n",
    "        \n",
    "        self.employeeRegFormItems = [\n",
    "            Box([Label(value = 'New Employee name : '), self.employeeRegNameText]),\n",
    "            Box([self.employeeRegButton]),\n",
    "            Box([self.employeeRegOut])\n",
    "        ]\n",
    "        \n",
    "        self.registerForm = Box(self.employeeRegFormItems, layout = Layout(\n",
    "        display = 'flex',\n",
    "        flex_flow = 'column',\n",
    "        border = 'solid 2px',\n",
    "        align_items = 'stretch',\n",
    "        width = '70%'))\n",
    "        \n",
    "        display(self.registerForm)\n",
    "    \n",
    "    def registerNewEmployee(self, change):\n",
    "        #Extract employee full name from the text\n",
    "        employeeName = self.employeeRegNameText.value\n",
    "        if not employeeName:\n",
    "            with self.employeeRegOut:\n",
    "                self.employeeRegOut.clear_output()\n",
    "                print('Employee name is empty and therefore cannot register new employee')\n",
    "                return\n",
    "\n",
    "        with self.employeeRegOut:\n",
    "            self.employeeRegOut.clear_output()\n",
    "            print('Ready to register ' + employeeName + ' swipe the card to the reader')\n",
    "            self.writeCard(employeeName)\n",
    "            print('Success!')\n",
    "\n",
    "obj = timeRegistration()"
   ]
  },
  {
   "cell_type": "code",
   "execution_count": 2,
   "metadata": {},
   "outputs": [
    {
     "data": {
      "text/plain": [
       "['__class__',\n",
       " '__delattr__',\n",
       " '__dict__',\n",
       " '__dir__',\n",
       " '__doc__',\n",
       " '__eq__',\n",
       " '__format__',\n",
       " '__ge__',\n",
       " '__getattribute__',\n",
       " '__gt__',\n",
       " '__hash__',\n",
       " '__init__',\n",
       " '__init_subclass__',\n",
       " '__le__',\n",
       " '__lt__',\n",
       " '__module__',\n",
       " '__ne__',\n",
       " '__new__',\n",
       " '__reduce__',\n",
       " '__reduce_ex__',\n",
       " '__repr__',\n",
       " '__setattr__',\n",
       " '__sizeof__',\n",
       " '__str__',\n",
       " '__subclasshook__',\n",
       " '__weakref__',\n",
       " 'buildGUI',\n",
       " 'employeeRegButton',\n",
       " 'employeeRegFormItems',\n",
       " 'employeeRegNameText',\n",
       " 'employeeRegOut',\n",
       " 'readCard',\n",
       " 'registerForm',\n",
       " 'registerNewEmployee',\n",
       " 'writeCard']"
      ]
     },
     "execution_count": 2,
     "metadata": {},
     "output_type": "execute_result"
    }
   ],
   "source": [
    "dir(obj)"
   ]
  },
  {
   "cell_type": "code",
   "execution_count": null,
   "metadata": {},
   "outputs": [],
   "source": []
  }
 ],
 "metadata": {
  "kernelspec": {
   "display_name": "Python 3",
   "language": "python",
   "name": "python3"
  },
  "language_info": {
   "codemirror_mode": {
    "name": "ipython",
    "version": 3
   },
   "file_extension": ".py",
   "mimetype": "text/x-python",
   "name": "python",
   "nbconvert_exporter": "python",
   "pygments_lexer": "ipython3",
   "version": "3.7.3"
  }
 },
 "nbformat": 4,
 "nbformat_minor": 4
}
