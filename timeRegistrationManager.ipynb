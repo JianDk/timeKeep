{
 "cells": [
  {
   "cell_type": "code",
   "execution_count": 1,
   "metadata": {
    "scrolled": true
   },
   "outputs": [
    {
     "data": {
      "application/vnd.jupyter.widget-view+json": {
       "model_id": "0c0e473e39f54309951c40602b3855c9",
       "version_major": 2,
       "version_minor": 0
      },
      "text/plain": [
       "Tab(children=(Box(children=(Box(children=(Label(value='New employee name* : '), Text(value='', placeholder='Em…"
      ]
     },
     "metadata": {},
     "output_type": "display_data"
    },
    {
     "name": "stdout",
     "output_type": "stream",
     "text": [
      "Jian Xiong Wu;20210107183321;registered\n"
     ]
    }
   ],
   "source": [
    "from ipywidgets import Layout, Button, Box, Label, Text, Output, Tab\n",
    "from IPython.display import display\n",
    "from timeStamp import rfidTimeStamp as rfidModule\n",
    "import sqlite3 \n",
    "import time\n",
    "import datetime\n",
    "\n",
    "class timeRegistration(rfidModule):\n",
    "    '''\n",
    "        timeRegistration is a class that contains the UI. Functionality:\n",
    "        \n",
    "        1) Create new users in the data base\n",
    "        2) Modify time registration of existing users. This function is made to allow write into the database should the user\n",
    "        accidentially forget to log in or log out\n",
    "        3) Users time registration data can be extracted within time period and allow report generation followed by sending report over email. \n",
    "    '''\n",
    "    def __init__(self, dbPath):\n",
    "        \n",
    "        #Connect to the database\n",
    "        self.dbPath = dbPath\n",
    "        self.createDatabaseIfNotExist(dbPath)\n",
    "        \n",
    "        #Timeout meaning how long time to wait for an action before going into idle mode\n",
    "        self.timeout = 10 #in sec\n",
    "        \n",
    "        #Initializing the GUI\n",
    "        self.buildGUI()\n",
    "    \n",
    "    def buildGUI(self):\n",
    "        \n",
    "        #REGISTER NEW EMPLOYEE\n",
    "        form_item_layout = Layout(\n",
    "        display = 'flex',\n",
    "        flex_flow = 'row',\n",
    "        justify_content = 'space-between')\n",
    "        \n",
    "        self.employeeRegNameText = Text(placeholder = 'Employee full name', disabled = False)\n",
    "        self.employeeRegButton = Button(description = 'Register', disabled = False, \n",
    "                                        button_style = 'success',\n",
    "                                        tooltip = 'Register new employee card')\n",
    "        \n",
    "        self.employeeRegButton.on_click(self.registerNewEmployee)\n",
    "        \n",
    "        self.employeeRegOut = Output()\n",
    "        \n",
    "        self.employeeRegFormItems = [\n",
    "            Box([Label(value = 'New employee name* : '), self.employeeRegNameText]),\n",
    "            Box([self.employeeRegButton]),\n",
    "            Box([self.employeeRegOut])\n",
    "        ]\n",
    "        \n",
    "        self.registerForm = Box(self.employeeRegFormItems, layout = Layout(\n",
    "        display = 'flex',\n",
    "        flex_flow = 'column',\n",
    "        border = 'solid 2px',\n",
    "        align_items = 'stretch',\n",
    "        width = '70%'))\n",
    "        \n",
    "        #TAB\n",
    "        self.tab = Tab()\n",
    "        self.tab.children = [self.registerForm]\n",
    "        self.tab.set_title(0, 'Register')\n",
    "        \n",
    "        display(self.tab)\n",
    "        \n",
    "    def createDatabaseIfNotExist(self, databasePath):\n",
    "        '''\n",
    "        Check if the table of the data base provided by the databasePath exists. If not it will be created.\n",
    "        '''\n",
    "        conn = sqlite3.connect(databasePath)\n",
    "        sqlString = '''CREATE TABLE IF NOT EXISTS workinghour (name text, employeeNo text, datetime text, status text)'''\n",
    "        c = conn.cursor()\n",
    "        c.execute(sqlString)\n",
    "        conn.commit()\n",
    "        conn.close()\n",
    "        \n",
    "    def connectDataBase(self):\n",
    "        '''\n",
    "        connects to the sql data base\n",
    "        '''\n",
    "        conn = sqlite3.connect(self.dbPath)\n",
    "        c = conn.cursor()\n",
    "        return conn, c\n",
    "    \n",
    "    def registerNewEmployee(self, change):\n",
    "        #Extract employee full name from the text\n",
    "        employeeName = self.employeeRegNameText.value\n",
    "        if not employeeName:\n",
    "            with self.employeeRegOut:\n",
    "                self.employeeRegOut.clear_output()\n",
    "                print('Error! Employee name is blank!')\n",
    "                return\n",
    "            \n",
    "        #Generate a unique employee number. The number is based on date of employment.\n",
    "        now = datetime.datetime.now()\n",
    "        employeeNumber = now.strftime(\"%Y%m%d%H%M%S\")\n",
    "        checkInStatus = 'registered' #First time when the employee is registered, the check in status is set to registered\n",
    "        #put employee name, employee number and checkin status into one string and write it to the card\n",
    "        stringToCard = employeeName.strip() + ';' + employeeNumber.strip() + ';' + checkInStatus\n",
    "        \n",
    "        with self.employeeRegOut:\n",
    "            self.employeeRegOut.clear_output()\n",
    "            print('Ready to register ' + employeeName + ' swipe the card to the reader')\n",
    "            idnum, textin = self.writeCard(stringToCard, timeout = self.timeout)\n",
    "            \n",
    "            if idnum is not None:\n",
    "                print(employeeName + ' has been registered.')\n",
    "                print('Employee number is ' + employeeNumber)\n",
    "                print('Complete!')\n",
    "            else:\n",
    "                print('Timeout ' + employeeName + ' not registered. Try again...')\n",
    "            \n",
    "\n",
    "obj = timeRegistration('employeeHour.db')"
   ]
  },
  {
   "cell_type": "code",
   "execution_count": 2,
   "metadata": {},
   "outputs": [
    {
     "ename": "IndentationError",
     "evalue": "unindent does not match any outer indentation level (SimpleMFRC522.py, line 21)",
     "output_type": "error",
     "traceback": [
      "Traceback \u001b[0;36m(most recent call last)\u001b[0m:\n",
      "  File \u001b[1;32m\"/home/pi/Documents/timeKeeper/env/lib/python3.7/site-packages/IPython/core/interactiveshell.py\"\u001b[0m, line \u001b[1;32m3418\u001b[0m, in \u001b[1;35mrun_code\u001b[0m\n    exec(code_obj, self.user_global_ns, self.user_ns)\n",
      "  File \u001b[1;32m\"<ipython-input-2-3ab0bf87e3f7>\"\u001b[0m, line \u001b[1;32m1\u001b[0m, in \u001b[1;35m<module>\u001b[0m\n    from MFRC522.mfrc522 import SimpleMFRC522\n",
      "\u001b[0;36m  File \u001b[0;32m\"/home/pi/Documents/timeKeeper/MFRC522/mfrc522/__init__.py\"\u001b[0;36m, line \u001b[0;32m2\u001b[0;36m, in \u001b[0;35m<module>\u001b[0;36m\u001b[0m\n\u001b[0;31m    from .SimpleMFRC522 import SimpleMFRC522\u001b[0m\n",
      "\u001b[0;36m  File \u001b[0;32m\"/home/pi/Documents/timeKeeper/MFRC522/mfrc522/SimpleMFRC522.py\"\u001b[0;36m, line \u001b[0;32m21\u001b[0m\n\u001b[0;31m    print('hello world')\u001b[0m\n\u001b[0m                        ^\u001b[0m\n\u001b[0;31mIndentationError\u001b[0m\u001b[0;31m:\u001b[0m unindent does not match any outer indentation level\n"
     ]
    }
   ],
   "source": [
    "from MFRC522.mfrc522 import SimpleMFRC522\n",
    "obj = SimpleMFRC522()\n",
    "\n",
    "obj.read()\n"
   ]
  },
  {
   "cell_type": "code",
   "execution_count": 7,
   "metadata": {},
   "outputs": [
    {
     "data": {
      "text/plain": [
       "20210107182657"
      ]
     },
     "execution_count": 7,
     "metadata": {},
     "output_type": "execute_result"
    }
   ],
   "source": [
    "import datetime\n",
    "dt = datetime.datetime.now()\n",
    "\n",
    "seq = int(dt.strftime(\"%Y%m%d%H%M%S\"))\n",
    "seq"
   ]
  },
  {
   "cell_type": "code",
   "execution_count": null,
   "metadata": {},
   "outputs": [],
   "source": []
  }
 ],
 "metadata": {
  "kernelspec": {
   "display_name": "Python 3",
   "language": "python",
   "name": "python3"
  },
  "language_info": {
   "codemirror_mode": {
    "name": "ipython",
    "version": 3
   },
   "file_extension": ".py",
   "mimetype": "text/x-python",
   "name": "python",
   "nbconvert_exporter": "python",
   "pygments_lexer": "ipython3",
   "version": "3.7.3"
  }
 },
 "nbformat": 4,
 "nbformat_minor": 4
}
